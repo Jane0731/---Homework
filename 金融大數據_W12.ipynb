{
  "nbformat": 4,
  "nbformat_minor": 0,
  "metadata": {
    "colab": {
      "provenance": [],
      "authorship_tag": "ABX9TyMnV/iEgGHP7mjZwp4qkP/K",
      "include_colab_link": true
    },
    "kernelspec": {
      "name": "python3",
      "display_name": "Python 3"
    },
    "language_info": {
      "name": "python"
    }
  },
  "cells": [
    {
      "cell_type": "markdown",
      "metadata": {
        "id": "view-in-github",
        "colab_type": "text"
      },
      "source": [
        "<a href=\"https://colab.research.google.com/github/Jane0731/Homework/blob/main/%E9%87%91%E8%9E%8D%E5%A4%A7%E6%95%B8%E6%93%9A_W12.ipynb\" target=\"_parent\"><img src=\"https://colab.research.google.com/assets/colab-badge.svg\" alt=\"Open In Colab\"/></a>"
      ]
    },
    {
      "cell_type": "code",
      "source": [
        "!pip install openai pandas yfinance requests matplotlib nltk"
      ],
      "metadata": {
        "colab": {
          "base_uri": "https://localhost:8080/"
        },
        "id": "M31m3er6OzuQ",
        "outputId": "3be52364-943b-44fd-aa4c-7f573679364c",
        "collapsed": true
      },
      "execution_count": 6,
      "outputs": [
        {
          "output_type": "stream",
          "name": "stdout",
          "text": [
            "Requirement already satisfied: openai in /usr/local/lib/python3.10/dist-packages (1.54.4)\n",
            "Requirement already satisfied: pandas in /usr/local/lib/python3.10/dist-packages (2.2.2)\n",
            "Requirement already satisfied: yfinance in /usr/local/lib/python3.10/dist-packages (0.2.49)\n",
            "Requirement already satisfied: requests in /usr/local/lib/python3.10/dist-packages (2.32.3)\n",
            "Requirement already satisfied: matplotlib in /usr/local/lib/python3.10/dist-packages (3.8.0)\n",
            "Requirement already satisfied: nltk in /usr/local/lib/python3.10/dist-packages (3.9.1)\n",
            "Requirement already satisfied: anyio<5,>=3.5.0 in /usr/local/lib/python3.10/dist-packages (from openai) (3.7.1)\n",
            "Requirement already satisfied: distro<2,>=1.7.0 in /usr/local/lib/python3.10/dist-packages (from openai) (1.9.0)\n",
            "Requirement already satisfied: httpx<1,>=0.23.0 in /usr/local/lib/python3.10/dist-packages (from openai) (0.27.2)\n",
            "Requirement already satisfied: jiter<1,>=0.4.0 in /usr/local/lib/python3.10/dist-packages (from openai) (0.7.1)\n",
            "Requirement already satisfied: pydantic<3,>=1.9.0 in /usr/local/lib/python3.10/dist-packages (from openai) (2.9.2)\n",
            "Requirement already satisfied: sniffio in /usr/local/lib/python3.10/dist-packages (from openai) (1.3.1)\n",
            "Requirement already satisfied: tqdm>4 in /usr/local/lib/python3.10/dist-packages (from openai) (4.66.6)\n",
            "Requirement already satisfied: typing-extensions<5,>=4.11 in /usr/local/lib/python3.10/dist-packages (from openai) (4.12.2)\n",
            "Requirement already satisfied: numpy>=1.22.4 in /usr/local/lib/python3.10/dist-packages (from pandas) (1.26.4)\n",
            "Requirement already satisfied: python-dateutil>=2.8.2 in /usr/local/lib/python3.10/dist-packages (from pandas) (2.8.2)\n",
            "Requirement already satisfied: pytz>=2020.1 in /usr/local/lib/python3.10/dist-packages (from pandas) (2024.2)\n",
            "Requirement already satisfied: tzdata>=2022.7 in /usr/local/lib/python3.10/dist-packages (from pandas) (2024.2)\n",
            "Requirement already satisfied: multitasking>=0.0.7 in /usr/local/lib/python3.10/dist-packages (from yfinance) (0.0.11)\n",
            "Requirement already satisfied: lxml>=4.9.1 in /usr/local/lib/python3.10/dist-packages (from yfinance) (5.3.0)\n",
            "Requirement already satisfied: platformdirs>=2.0.0 in /usr/local/lib/python3.10/dist-packages (from yfinance) (4.3.6)\n",
            "Requirement already satisfied: frozendict>=2.3.4 in /usr/local/lib/python3.10/dist-packages (from yfinance) (2.4.6)\n",
            "Requirement already satisfied: peewee>=3.16.2 in /usr/local/lib/python3.10/dist-packages (from yfinance) (3.17.8)\n",
            "Requirement already satisfied: beautifulsoup4>=4.11.1 in /usr/local/lib/python3.10/dist-packages (from yfinance) (4.12.3)\n",
            "Requirement already satisfied: html5lib>=1.1 in /usr/local/lib/python3.10/dist-packages (from yfinance) (1.1)\n",
            "Requirement already satisfied: charset-normalizer<4,>=2 in /usr/local/lib/python3.10/dist-packages (from requests) (3.4.0)\n",
            "Requirement already satisfied: idna<4,>=2.5 in /usr/local/lib/python3.10/dist-packages (from requests) (3.10)\n",
            "Requirement already satisfied: urllib3<3,>=1.21.1 in /usr/local/lib/python3.10/dist-packages (from requests) (2.2.3)\n",
            "Requirement already satisfied: certifi>=2017.4.17 in /usr/local/lib/python3.10/dist-packages (from requests) (2024.8.30)\n",
            "Requirement already satisfied: contourpy>=1.0.1 in /usr/local/lib/python3.10/dist-packages (from matplotlib) (1.3.1)\n",
            "Requirement already satisfied: cycler>=0.10 in /usr/local/lib/python3.10/dist-packages (from matplotlib) (0.12.1)\n",
            "Requirement already satisfied: fonttools>=4.22.0 in /usr/local/lib/python3.10/dist-packages (from matplotlib) (4.55.0)\n",
            "Requirement already satisfied: kiwisolver>=1.0.1 in /usr/local/lib/python3.10/dist-packages (from matplotlib) (1.4.7)\n",
            "Requirement already satisfied: packaging>=20.0 in /usr/local/lib/python3.10/dist-packages (from matplotlib) (24.2)\n",
            "Requirement already satisfied: pillow>=6.2.0 in /usr/local/lib/python3.10/dist-packages (from matplotlib) (11.0.0)\n",
            "Requirement already satisfied: pyparsing>=2.3.1 in /usr/local/lib/python3.10/dist-packages (from matplotlib) (3.2.0)\n",
            "Requirement already satisfied: click in /usr/local/lib/python3.10/dist-packages (from nltk) (8.1.7)\n",
            "Requirement already satisfied: joblib in /usr/local/lib/python3.10/dist-packages (from nltk) (1.4.2)\n",
            "Requirement already satisfied: regex>=2021.8.3 in /usr/local/lib/python3.10/dist-packages (from nltk) (2024.9.11)\n",
            "Requirement already satisfied: exceptiongroup in /usr/local/lib/python3.10/dist-packages (from anyio<5,>=3.5.0->openai) (1.2.2)\n",
            "Requirement already satisfied: soupsieve>1.2 in /usr/local/lib/python3.10/dist-packages (from beautifulsoup4>=4.11.1->yfinance) (2.6)\n",
            "Requirement already satisfied: six>=1.9 in /usr/local/lib/python3.10/dist-packages (from html5lib>=1.1->yfinance) (1.16.0)\n",
            "Requirement already satisfied: webencodings in /usr/local/lib/python3.10/dist-packages (from html5lib>=1.1->yfinance) (0.5.1)\n",
            "Requirement already satisfied: httpcore==1.* in /usr/local/lib/python3.10/dist-packages (from httpx<1,>=0.23.0->openai) (1.0.7)\n",
            "Requirement already satisfied: h11<0.15,>=0.13 in /usr/local/lib/python3.10/dist-packages (from httpcore==1.*->httpx<1,>=0.23.0->openai) (0.14.0)\n",
            "Requirement already satisfied: annotated-types>=0.6.0 in /usr/local/lib/python3.10/dist-packages (from pydantic<3,>=1.9.0->openai) (0.7.0)\n",
            "Requirement already satisfied: pydantic-core==2.23.4 in /usr/local/lib/python3.10/dist-packages (from pydantic<3,>=1.9.0->openai) (2.23.4)\n"
          ]
        }
      ]
    },
    {
      "cell_type": "code",
      "source": [
        "!pip install --upgrade transformers sympy"
      ],
      "metadata": {
        "collapsed": true,
        "colab": {
          "base_uri": "https://localhost:8080/"
        },
        "id": "DWuu23qJ5HVN",
        "outputId": "19d9828d-576d-4f6c-b6e2-0b39137555f8"
      },
      "execution_count": 7,
      "outputs": [
        {
          "output_type": "stream",
          "name": "stdout",
          "text": [
            "Requirement already satisfied: transformers in /usr/local/lib/python3.10/dist-packages (4.46.3)\n",
            "Requirement already satisfied: sympy in /usr/local/lib/python3.10/dist-packages (1.13.3)\n",
            "Requirement already satisfied: filelock in /usr/local/lib/python3.10/dist-packages (from transformers) (3.16.1)\n",
            "Requirement already satisfied: huggingface-hub<1.0,>=0.23.2 in /usr/local/lib/python3.10/dist-packages (from transformers) (0.26.2)\n",
            "Requirement already satisfied: numpy>=1.17 in /usr/local/lib/python3.10/dist-packages (from transformers) (1.26.4)\n",
            "Requirement already satisfied: packaging>=20.0 in /usr/local/lib/python3.10/dist-packages (from transformers) (24.2)\n",
            "Requirement already satisfied: pyyaml>=5.1 in /usr/local/lib/python3.10/dist-packages (from transformers) (6.0.2)\n",
            "Requirement already satisfied: regex!=2019.12.17 in /usr/local/lib/python3.10/dist-packages (from transformers) (2024.9.11)\n",
            "Requirement already satisfied: requests in /usr/local/lib/python3.10/dist-packages (from transformers) (2.32.3)\n",
            "Requirement already satisfied: tokenizers<0.21,>=0.20 in /usr/local/lib/python3.10/dist-packages (from transformers) (0.20.3)\n",
            "Requirement already satisfied: safetensors>=0.4.1 in /usr/local/lib/python3.10/dist-packages (from transformers) (0.4.5)\n",
            "Requirement already satisfied: tqdm>=4.27 in /usr/local/lib/python3.10/dist-packages (from transformers) (4.66.6)\n",
            "Requirement already satisfied: mpmath<1.4,>=1.1.0 in /usr/local/lib/python3.10/dist-packages (from sympy) (1.3.0)\n",
            "Requirement already satisfied: fsspec>=2023.5.0 in /usr/local/lib/python3.10/dist-packages (from huggingface-hub<1.0,>=0.23.2->transformers) (2024.10.0)\n",
            "Requirement already satisfied: typing-extensions>=3.7.4.3 in /usr/local/lib/python3.10/dist-packages (from huggingface-hub<1.0,>=0.23.2->transformers) (4.12.2)\n",
            "Requirement already satisfied: charset-normalizer<4,>=2 in /usr/local/lib/python3.10/dist-packages (from requests->transformers) (3.4.0)\n",
            "Requirement already satisfied: idna<4,>=2.5 in /usr/local/lib/python3.10/dist-packages (from requests->transformers) (3.10)\n",
            "Requirement already satisfied: urllib3<3,>=1.21.1 in /usr/local/lib/python3.10/dist-packages (from requests->transformers) (2.2.3)\n",
            "Requirement already satisfied: certifi>=2017.4.17 in /usr/local/lib/python3.10/dist-packages (from requests->transformers) (2024.8.30)\n"
          ]
        }
      ]
    },
    {
      "cell_type": "code",
      "source": [
        "from openai import OpenAI\n",
        "\n",
        "# 設定 OpenAI API 金鑰 -> 有成功 但為了資安 所以拔除 不上傳 github\n",
        "os.environ[\"OPENAI_API_KEY\"] = \"隱藏\"\n",
        "\n",
        "\n",
        "# 初始化 OpenAI 客戶端\n",
        "client = OpenAI(\n",
        "    api_key=os.environ.get(\"OPENAI_API_KEY\"),  # This is the default and can be omitted\n",
        ")"
      ],
      "metadata": {
        "id": "oUMU4lhz_aYq"
      },
      "execution_count": 33,
      "outputs": []
    },
    {
      "cell_type": "markdown",
      "source": [
        "# 基本面分析"
      ],
      "metadata": {
        "id": "wErtREzFhuJO"
      }
    },
    {
      "cell_type": "code",
      "execution_count": 51,
      "metadata": {
        "id": "GrZbQ77kOQSt"
      },
      "outputs": [],
      "source": [
        "import yfinance as yf\n",
        "\n",
        "def get_fundamental_data(ticker):\n",
        "    stock = yf.Ticker(ticker)\n",
        "    info = stock.info\n",
        "    fundamental_data = {\n",
        "        \"公司名稱\": info.get(\"longName\"),\n",
        "        \"行業\": info.get(\"sector\"),\n",
        "        \"市盈率(P/E)\": info.get(\"trailingPE\"),\n",
        "        \"股息率\": info.get(\"dividendYield\"),\n",
        "        \"總收入\": info.get(\"totalRevenue\"),\n",
        "        \"淨利潤率\": info.get(\"profitMargins\"),\n",
        "    }\n",
        "    return fundamental_data\n",
        "\n",
        "def format_fundamental_data(fundamental_data):\n",
        "    # 格式化數字，處理 None 或數據缺失的情況\n",
        "    pe_ratio = fundamental_data.get(\"市盈率(P/E)\", \"N/A\")\n",
        "    dividend_yield = fundamental_data.get(\"股息率\", \"N/A\")\n",
        "    total_revenue = fundamental_data.get(\"總收入\", \"N/A\")\n",
        "    profit_margin = fundamental_data.get(\"淨利潤率\", \"N/A\")\n",
        "\n",
        "    # 將大數據轉換為可讀的單位（例如 \"2000億\"）\n",
        "    if total_revenue and isinstance(total_revenue, int):\n",
        "        total_revenue = f\"{total_revenue / 1e8:.1f}億\"\n",
        "\n",
        "    if profit_margin and isinstance(profit_margin, float):\n",
        "        profit_margin = f\"{profit_margin * 100:.1f}%\"\n",
        "\n",
        "    # 格式化輸出\n",
        "    formatted_data = (\n",
        "        f\"市盈率(P/E Ratio): {pe_ratio}, \"\n",
        "        f\"股息率: {dividend_yield}, \"\n",
        "        f\"營收: {total_revenue}, \"\n",
        "        f\"淨利潤率: {profit_margin}\"\n",
        "    )\n",
        "    return formatted_data\n"
      ]
    },
    {
      "cell_type": "markdown",
      "source": [
        "# 技術面分析"
      ],
      "metadata": {
        "id": "j1q1I3GDhwU1"
      }
    },
    {
      "cell_type": "code",
      "source": [
        "import yfinance as yf\n",
        "import pandas as pd\n",
        "import openai\n",
        "import os\n",
        "\n",
        "def calculate_technical_indicators(ticker):\n",
        "    stock = yf.Ticker(ticker)\n",
        "    hist = stock.history(period=\"3mo\")  # 最近三個月的數據\n",
        "\n",
        "    # 計算技術指標\n",
        "    hist['20_MA'] = hist['Close'].rolling(window=20).mean()\n",
        "    hist['RSI'] = 100 - (100 / (1 + hist['Close'].pct_change().apply(lambda x: x if x > 0 else 0).rolling(14).mean() / hist['Close'].pct_change().apply(lambda x: abs(x)).rolling(14).mean()))\n",
        "\n",
        "    # 提取最新數據\n",
        "    latest_data = {\n",
        "        \"最新價格\": hist['Close'][-1],\n",
        "        \"20日均線\": hist['20_MA'][-1],\n",
        "        \"RSI\": hist['RSI'][-1]\n",
        "    }\n",
        "    return latest_data\n",
        "\n",
        "\n",
        "\n",
        "def ask_gpt_about_technical_analysis(ticker):\n",
        "    technical_data=calculate_technical_indicators(ticker)\n",
        "    # 格式化技術面數據\n",
        "    close = technical_data.get(\"最新價格\", \"N/A\")\n",
        "    rsi = technical_data.get(\"RSI\", \"N/A\")\n",
        "    ma_20 = technical_data.get(\"20_MA\", \"N/A\")\n",
        "    # 確保數據為數字，否則轉為 \"N/A\"\n",
        "    close = f\"{close:.2f}\" if isinstance(close, (int, float)) else \"N/A\"\n",
        "    rsi = f\"{rsi:.2f}\" if isinstance(rsi, (int, float)) else \"N/A\"\n",
        "    ma_20 = f\"{ma_20:.2f}\" if isinstance(ma_20, (int, float)) else \"N/A\"\n",
        "\n",
        "    # 構建 Prompt\n",
        "    prompt = f\"\"\"\n",
        "    以下是 {ticker} 的技術面數據：\n",
        "    RSI: {rsi}, 20日均線: {ma_20}, 最新價格: {close}\n",
        "\n",
        "    請基於這些數據，分析該股票的技術面情況並提供投資建議。\n",
        "    建議不用太長，不要超過 100 個字，請給重點\n",
        "    \"\"\"\n",
        "\n",
        "    # 使用 Chat API\n",
        "    response = client.chat.completions.create(\n",
        "        model=\"gpt-4\",\n",
        "        messages=[\n",
        "            {\n",
        "                \"role\": \"system\",\n",
        "                \"content\": \"你是專業的股票分析師，提供詳細且準確的技術分析和投資建議。\",\n",
        "            },\n",
        "            {\n",
        "                \"role\": \"user\",\n",
        "                \"content\": prompt,\n",
        "            },\n",
        "        ],\n",
        "        max_tokens=500,\n",
        "    )\n",
        "    gpt_response = response.choices[0].message.content\n",
        "    return gpt_response"
      ],
      "metadata": {
        "id": "iakYrIeiPQ17"
      },
      "execution_count": 46,
      "outputs": []
    },
    {
      "cell_type": "markdown",
      "source": [
        "# 新聞情緒分析模組"
      ],
      "metadata": {
        "id": "iuXHN2ReiGoY"
      }
    },
    {
      "cell_type": "code",
      "source": [
        "import requests\n",
        "from transformers import pipeline\n",
        "\n",
        "# 初始化情感分析模型\n",
        "sentiment_pipeline = pipeline(\n",
        "    \"sentiment-analysis\",\n",
        "    model=\"uer/roberta-base-finetuned-chinanews-chinese\"\n",
        ")\n",
        "\n",
        "def fetch_news(stock_id, page=1, limit=5):\n",
        "    url = 'https://api.cnyes.com/media/api/v1/newslist/category/tw_stock'\n",
        "    params = {\n",
        "        'page': page,\n",
        "        'limit': limit,\n",
        "        'stock_id': stock_id\n",
        "    }\n",
        "    response = requests.get(url, params=params)\n",
        "    if response.status_code == 200:\n",
        "        return response.json()\n",
        "    else:\n",
        "        return None\n",
        "\n",
        "# 獲取台積電（2330.TW）的新聞資料並進行情感分析\n",
        "def analyze_sentiment(stock_id, page=1, limit=5):\n",
        "    news_data = fetch_news(stock_id, page, limit)\n",
        "    if news_data:\n",
        "        articles = news_data['items']['data']\n",
        "        sentiment_scores = []\n",
        "        for news in articles:\n",
        "            title = news.get('title', '無標題')\n",
        "            sentiment = sentiment_pipeline(title)[0]  # 分析情感\n",
        "            print(f\"標題: {title}\")\n",
        "            print(f\"情感結果: {sentiment}\")\n",
        "            print(f\"情感傾向: {sentiment['label']} ({'正面' if sentiment['label'] == 'positive' else '負面'})\")\n",
        "            print()\n",
        "            sentiment_scores.append(sentiment['score'] if sentiment['label'] == 'positive' else -sentiment['score'])\n",
        "\n",
        "        # 計算新聞數量及平均情緒分數\n",
        "        avg_sentiment = sum(sentiment_scores) / len(sentiment_scores) if sentiment_scores else 0\n",
        "        sentiment_analysis = {\n",
        "            \"新聞數量\": len(articles),\n",
        "            \"平均情緒分數\": avg_sentiment\n",
        "        }\n",
        "        return sentiment_analysis\n",
        "    else:\n",
        "        print(\"無法獲取新聞資料\")\n",
        "        return None\n",
        "\n",
        "def summarize_sentiment_to_gpt(stock_id, sentiment_analysis):\n",
        "    # 整合數據為文字\n",
        "    news_count = sentiment_analysis.get(\"新聞數量\", 0)\n",
        "    avg_sentiment = sentiment_analysis.get(\"平均情緒分數\", 0)\n",
        "\n",
        "    prompt = f\"\"\"\n",
        "    以下是 {stock_id} 的新聞情緒分析摘要：\n",
        "    - 總共分析的新聞數量：{news_count} 篇\n",
        "    - 平均情緒分數：{avg_sentiment:.2f}\n",
        "\n",
        "    請基於這些數據生成一個簡短的敘述，描述新聞情緒的總體趨勢（例如偏向正面、負面或中性）。\n",
        "    \"\"\"\n",
        "\n",
        "    # 呼叫 GPT API\n",
        "    try:\n",
        "        response = client.chat.completions.create(\n",
        "            model=\"gpt-4\",\n",
        "            messages=[\n",
        "                {\n",
        "                    \"role\": \"system\",\n",
        "                    \"content\": \"你是一位專業的金融分析師，能根據情緒數據生成簡明扼要的分析報告。\",\n",
        "                },\n",
        "                {\n",
        "                    \"role\": \"user\",\n",
        "                    \"content\": prompt,\n",
        "                },\n",
        "            ],\n",
        "            max_tokens=150,\n",
        "        )\n",
        "        gpt_response = response.choices[0].message.content\n",
        "        return gpt_response\n",
        "\n",
        "    except Exception as e:\n",
        "        print(f\"API 調用失敗: {e}\")\n",
        "        return None\n"
      ],
      "metadata": {
        "id": "uvX7qBgoPRXO",
        "colab": {
          "base_uri": "https://localhost:8080/"
        },
        "outputId": "b7f0b146-41d3-4572-e509-ad3a980d118a",
        "collapsed": true
      },
      "execution_count": 49,
      "outputs": [
        {
          "output_type": "stream",
          "name": "stdout",
          "text": [
            "標題: 聯電「綠獎」推動生物多樣性 九年累積81項成果遍及全台\n",
            "情感結果: {'label': 'Hong Kong - Macau politics', 'score': 0.9968279004096985}\n",
            "情感傾向: Hong Kong - Macau politics (負面)\n",
            "\n",
            "標題: 〈航運指數〉歐洲運價暴漲 但美西暴跌 貨攬業點出一原因\n",
            "情感結果: {'label': 'financial news', 'score': 0.8462272882461548}\n",
            "情感傾向: financial news (負面)\n",
            "\n",
            "標題: 鉅亨速報 - Factset 最新調查：兆豐金(2886-TW)EPS預估下修至2.47元，預估目標價為39.6元\n",
            "情感結果: {'label': 'financial news', 'score': 0.997488260269165}\n",
            "情感傾向: financial news (負面)\n",
            "\n",
            "標題: 鉅亨速報 - Factset 最新調查：富邦金(2881-TW)EPS預估上修至9.61元，預估目標價為98元\n",
            "情感結果: {'label': 'financial news', 'score': 0.9983288645744324}\n",
            "情感傾向: financial news (負面)\n",
            "\n",
            "標題: 鉅亨速報 - Factset 最新調查：保瑞(6472-TW)EPS預估上修至41.93元，預估目標價為950元\n",
            "情感結果: {'label': 'financial news', 'score': 0.9975008368492126}\n",
            "情感傾向: financial news (負面)\n",
            "\n",
            "GPT 回應：\n",
            "根據我們對2330的新聞情緒分析，總共納入的新聞篇數為5篇。自這些數據中，我們可以觀察到情緒得分呈現出負向的趨勢，平均情緒分數為-0.97，代表該檔股票的新聞情緒偏向負面，可能對其市場表現造成不利影響。\n"
          ]
        }
      ]
    },
    {
      "cell_type": "markdown",
      "source": [
        "# 使用 OpenAI 生成報告"
      ],
      "metadata": {
        "id": "GSpnRNkh0Oe5"
      }
    },
    {
      "cell_type": "code",
      "source": [
        "import os\n",
        "\n",
        "\n",
        "\n",
        "def generate_stock_report(ticker, fundamental, technical, sentiment):\n",
        "    prompt = f\"\"\"\n",
        "    以下是 {ticker} 的股票數據分析：\n",
        "    基本面數據：\n",
        "    {fundamental}\n",
        "\n",
        "    技術面數據：\n",
        "    {technical}\n",
        "\n",
        "    新聞情緒：\n",
        "    {sentiment}\n",
        "\n",
        "    請基於上述數據生成一份專業的股票分析報告，包括投資建議和風險提示。\n",
        "    請給我 500 字以內的報告\n",
        "    \"\"\"\n",
        "    # 使用 ChatCompletions API\n",
        "    response = client.chat.completions.create(\n",
        "        model=\"gpt-4o-mini\",  # 或其他支持的 GPT 模型\n",
        "        messages=[\n",
        "            {\n",
        "                \"role\": \"system\",\n",
        "                \"content\": \"你是專業的股票分析師，提供詳細且準確的報告。\",\n",
        "            },\n",
        "            {\n",
        "                \"role\": \"user\",\n",
        "                \"content\": prompt\n",
        "            },\n",
        "        ],\n",
        "        max_tokens=1000,\n",
        "    )\n",
        "    gpt_response = response.choices[0].message.content\n",
        "    return gpt_response"
      ],
      "metadata": {
        "id": "IrkCTsKsPSvW",
        "colab": {
          "base_uri": "https://localhost:8080/"
        },
        "outputId": "8b7e137d-f0a2-410e-df53-2476f22e5c60"
      },
      "execution_count": 54,
      "outputs": [
        {
          "output_type": "stream",
          "name": "stderr",
          "text": [
            "<ipython-input-46-f8242bd06398>:16: FutureWarning: Series.__getitem__ treating keys as positions is deprecated. In a future version, integer keys will always be treated as labels (consistent with DataFrame behavior). To access a value by position, use `ser.iloc[pos]`\n",
            "  \"最新價格\": hist['Close'][-1],\n",
            "<ipython-input-46-f8242bd06398>:17: FutureWarning: Series.__getitem__ treating keys as positions is deprecated. In a future version, integer keys will always be treated as labels (consistent with DataFrame behavior). To access a value by position, use `ser.iloc[pos]`\n",
            "  \"20日均線\": hist['20_MA'][-1],\n",
            "<ipython-input-46-f8242bd06398>:18: FutureWarning: Series.__getitem__ treating keys as positions is deprecated. In a future version, integer keys will always be treated as labels (consistent with DataFrame behavior). To access a value by position, use `ser.iloc[pos]`\n",
            "  \"RSI\": hist['RSI'][-1]\n"
          ]
        },
        {
          "output_type": "stream",
          "name": "stdout",
          "text": [
            "標題: 聯電「綠獎」推動生物多樣性 九年累積81項成果遍及全台\n",
            "情感結果: {'label': 'Hong Kong - Macau politics', 'score': 0.9968279004096985}\n",
            "情感傾向: Hong Kong - Macau politics (負面)\n",
            "\n",
            "標題: 〈航運指數〉歐洲運價暴漲 但美西暴跌 貨攬業點出一原因\n",
            "情感結果: {'label': 'financial news', 'score': 0.8462272882461548}\n",
            "情感傾向: financial news (負面)\n",
            "\n",
            "標題: 鉅亨速報 - Factset 最新調查：兆豐金(2886-TW)EPS預估下修至2.47元，預估目標價為39.6元\n",
            "情感結果: {'label': 'financial news', 'score': 0.997488260269165}\n",
            "情感傾向: financial news (負面)\n",
            "\n",
            "標題: 鉅亨速報 - Factset 最新調查：富邦金(2881-TW)EPS預估上修至9.61元，預估目標價為98元\n",
            "情感結果: {'label': 'financial news', 'score': 0.9983288645744324}\n",
            "情感傾向: financial news (負面)\n",
            "\n",
            "標題: 鉅亨速報 - Factset 最新調查：保瑞(6472-TW)EPS預估上修至41.93元，預估目標價為950元\n",
            "情感結果: {'label': 'financial news', 'score': 0.9975008368492126}\n",
            "情感傾向: financial news (負面)\n",
            "\n",
            "# 股票分析報告 - 2330.TW\n",
            "\n",
            "## 基本面分析\n",
            "2330.TW目前的市盈率（P/E Ratio）為24.59，這表明公司在市場上相對於其盈利能力的估值偏高。此外，0.0159的股息率顯示出其回報相對較低，可能不太吸引尋求穩定現金流的投資者。營收方面，26513.8億元的數字顯示出公司在行業中的強大地位，然而，相對於39.1%的淨利潤率，這仍需關注其持續的盈利能力和競爭壓力。\n",
            "\n",
            "## 技術面分析\n",
            "從技術面來看，2330.TW的相對強弱指數（RSI）為21.28，顯示出該股票目前處於超賣狀態。這通常暗示著價格可能會反彈。然而，市場情緒和其他影響因素也可能使得即使在超賣狀態下，股價仍可能進一步下滑。因此，單單依賴RSI作為入場信號並不足夠，投資者應謹慎分析。\n",
            "\n",
            "值得注意的是，缺乏20日均線數據使得對於短期價格走勢的預測更加困難。通常情況下，價格跌破移動平均線會引發進一步的下行壓力，而如果突破均線則可能意味著反彈的開始。\n",
            "\n",
            "## 新聞情緒分析\n",
            "根據5篇相關新聞的情緒分析，2330.TW的平均情緒分數為-0.97，顯示出對於公司的整體看法偏向負面。這種情緒若未能改善，將可能影響投資者的信心和市場表現。因此，保持對於新聞動態的關注尤為重要，以評估未來的投資風險和潛在機會。\n",
            "\n",
            "## 投資建議\n",
            "考慮到上述因素，如果你對市場回升持樂觀看法並能接受短期市場波動，2330.TW可能是短期交易的機會。然而，建議在進行任何投資前，應充分考慮企業基本面與市場情緒，並設置合理的停損策略來防範潛在風險。長期而言，持續觀察市場環境及公司基本面變化，做出靈活的調整將是明智之舉。\n",
            "\n",
            "## 風險提示\n",
            "市場情緒及外部環境變化可能會對股價造成重大影響，投資者需做好相應的風險管理。適時查看公司公告及行業新聞，能幫助及時調整投資策略。\n"
          ]
        }
      ]
    },
    {
      "cell_type": "markdown",
      "source": [
        "# 投資建議排序"
      ],
      "metadata": {
        "id": "syyc0v6v6Q1V"
      }
    },
    {
      "cell_type": "code",
      "source": [
        "def analyze_and_rank_stocks(tickers):\n",
        "    reports = []\n",
        "    for ticker in tickers:\n",
        "        fundamental_data=get_fundamental_data(ticker)\n",
        "        fundamental = format_fundamental_data(fundamental_data)\n",
        "        technical = ask_gpt_about_technical_analysis(ticker)\n",
        "        sentiment_analysis = analyze_sentiment(ticker)\n",
        "        sentiment = summarize_sentiment_to_gpt(ticker, sentiment_analysis)\n",
        "        report = generate_stock_report(ticker, fundamental, technical, sentiment)\n",
        "        reports.append({\"股票\": ticker, \"報告\": report})\n",
        "\n",
        "    # 根據您的需求設計排序邏輯（例如 P/E、RSI、新聞情緒分數等）\n",
        "    return sorted(reports, key=lambda x: x['股票'])\n",
        "\n",
        "# 示例\n",
        "tickers = [\"2330.TW\", \"AAPL\", \"MSFT\"]\n",
        "ranked_reports = analyze_and_rank_stocks(tickers)\n",
        "for stock in ranked_reports:\n",
        "    print(stock)"
      ],
      "metadata": {
        "id": "sbZg9Zj1PUIk",
        "colab": {
          "base_uri": "https://localhost:8080/"
        },
        "outputId": "51b85bcd-87c5-4791-f4a9-8798fc725430"
      },
      "execution_count": 55,
      "outputs": [
        {
          "output_type": "stream",
          "name": "stderr",
          "text": [
            "<ipython-input-46-f8242bd06398>:16: FutureWarning: Series.__getitem__ treating keys as positions is deprecated. In a future version, integer keys will always be treated as labels (consistent with DataFrame behavior). To access a value by position, use `ser.iloc[pos]`\n",
            "  \"最新價格\": hist['Close'][-1],\n",
            "<ipython-input-46-f8242bd06398>:17: FutureWarning: Series.__getitem__ treating keys as positions is deprecated. In a future version, integer keys will always be treated as labels (consistent with DataFrame behavior). To access a value by position, use `ser.iloc[pos]`\n",
            "  \"20日均線\": hist['20_MA'][-1],\n",
            "<ipython-input-46-f8242bd06398>:18: FutureWarning: Series.__getitem__ treating keys as positions is deprecated. In a future version, integer keys will always be treated as labels (consistent with DataFrame behavior). To access a value by position, use `ser.iloc[pos]`\n",
            "  \"RSI\": hist['RSI'][-1]\n"
          ]
        },
        {
          "output_type": "stream",
          "name": "stdout",
          "text": [
            "標題: 聯電「綠獎」推動生物多樣性 九年累積81項成果遍及全台\n",
            "情感結果: {'label': 'Hong Kong - Macau politics', 'score': 0.9968279004096985}\n",
            "情感傾向: Hong Kong - Macau politics (負面)\n",
            "\n",
            "標題: 〈航運指數〉歐洲運價暴漲 但美西暴跌 貨攬業點出一原因\n",
            "情感結果: {'label': 'financial news', 'score': 0.8462272882461548}\n",
            "情感傾向: financial news (負面)\n",
            "\n",
            "標題: 鉅亨速報 - Factset 最新調查：兆豐金(2886-TW)EPS預估下修至2.47元，預估目標價為39.6元\n",
            "情感結果: {'label': 'financial news', 'score': 0.997488260269165}\n",
            "情感傾向: financial news (負面)\n",
            "\n",
            "標題: 鉅亨速報 - Factset 最新調查：富邦金(2881-TW)EPS預估上修至9.61元，預估目標價為98元\n",
            "情感結果: {'label': 'financial news', 'score': 0.9983288645744324}\n",
            "情感傾向: financial news (負面)\n",
            "\n",
            "標題: 鉅亨速報 - Factset 最新調查：保瑞(6472-TW)EPS預估上修至41.93元，預估目標價為950元\n",
            "情感結果: {'label': 'financial news', 'score': 0.9975008368492126}\n",
            "情感傾向: financial news (負面)\n",
            "\n"
          ]
        },
        {
          "output_type": "stream",
          "name": "stderr",
          "text": [
            "<ipython-input-46-f8242bd06398>:16: FutureWarning: Series.__getitem__ treating keys as positions is deprecated. In a future version, integer keys will always be treated as labels (consistent with DataFrame behavior). To access a value by position, use `ser.iloc[pos]`\n",
            "  \"最新價格\": hist['Close'][-1],\n",
            "<ipython-input-46-f8242bd06398>:17: FutureWarning: Series.__getitem__ treating keys as positions is deprecated. In a future version, integer keys will always be treated as labels (consistent with DataFrame behavior). To access a value by position, use `ser.iloc[pos]`\n",
            "  \"20日均線\": hist['20_MA'][-1],\n",
            "<ipython-input-46-f8242bd06398>:18: FutureWarning: Series.__getitem__ treating keys as positions is deprecated. In a future version, integer keys will always be treated as labels (consistent with DataFrame behavior). To access a value by position, use `ser.iloc[pos]`\n",
            "  \"RSI\": hist['RSI'][-1]\n"
          ]
        },
        {
          "output_type": "stream",
          "name": "stdout",
          "text": [
            "標題: 聯電「綠獎」推動生物多樣性 九年累積81項成果遍及全台\n",
            "情感結果: {'label': 'Hong Kong - Macau politics', 'score': 0.9968279004096985}\n",
            "情感傾向: Hong Kong - Macau politics (負面)\n",
            "\n",
            "標題: 〈航運指數〉歐洲運價暴漲 但美西暴跌 貨攬業點出一原因\n",
            "情感結果: {'label': 'financial news', 'score': 0.8462272882461548}\n",
            "情感傾向: financial news (負面)\n",
            "\n",
            "標題: 鉅亨速報 - Factset 最新調查：兆豐金(2886-TW)EPS預估下修至2.47元，預估目標價為39.6元\n",
            "情感結果: {'label': 'financial news', 'score': 0.997488260269165}\n",
            "情感傾向: financial news (負面)\n",
            "\n",
            "標題: 鉅亨速報 - Factset 最新調查：富邦金(2881-TW)EPS預估上修至9.61元，預估目標價為98元\n",
            "情感結果: {'label': 'financial news', 'score': 0.9983288645744324}\n",
            "情感傾向: financial news (負面)\n",
            "\n",
            "標題: 鉅亨速報 - Factset 最新調查：保瑞(6472-TW)EPS預估上修至41.93元，預估目標價為950元\n",
            "情感結果: {'label': 'financial news', 'score': 0.9975008368492126}\n",
            "情感傾向: financial news (負面)\n",
            "\n"
          ]
        },
        {
          "output_type": "stream",
          "name": "stderr",
          "text": [
            "<ipython-input-46-f8242bd06398>:16: FutureWarning: Series.__getitem__ treating keys as positions is deprecated. In a future version, integer keys will always be treated as labels (consistent with DataFrame behavior). To access a value by position, use `ser.iloc[pos]`\n",
            "  \"最新價格\": hist['Close'][-1],\n",
            "<ipython-input-46-f8242bd06398>:17: FutureWarning: Series.__getitem__ treating keys as positions is deprecated. In a future version, integer keys will always be treated as labels (consistent with DataFrame behavior). To access a value by position, use `ser.iloc[pos]`\n",
            "  \"20日均線\": hist['20_MA'][-1],\n",
            "<ipython-input-46-f8242bd06398>:18: FutureWarning: Series.__getitem__ treating keys as positions is deprecated. In a future version, integer keys will always be treated as labels (consistent with DataFrame behavior). To access a value by position, use `ser.iloc[pos]`\n",
            "  \"RSI\": hist['RSI'][-1]\n"
          ]
        },
        {
          "output_type": "stream",
          "name": "stdout",
          "text": [
            "標題: 聯電「綠獎」推動生物多樣性 九年累積81項成果遍及全台\n",
            "情感結果: {'label': 'Hong Kong - Macau politics', 'score': 0.9968279004096985}\n",
            "情感傾向: Hong Kong - Macau politics (負面)\n",
            "\n",
            "標題: 〈航運指數〉歐洲運價暴漲 但美西暴跌 貨攬業點出一原因\n",
            "情感結果: {'label': 'financial news', 'score': 0.8462272882461548}\n",
            "情感傾向: financial news (負面)\n",
            "\n",
            "標題: 鉅亨速報 - Factset 最新調查：兆豐金(2886-TW)EPS預估下修至2.47元，預估目標價為39.6元\n",
            "情感結果: {'label': 'financial news', 'score': 0.997488260269165}\n",
            "情感傾向: financial news (負面)\n",
            "\n",
            "標題: 鉅亨速報 - Factset 最新調查：富邦金(2881-TW)EPS預估上修至9.61元，預估目標價為98元\n",
            "情感結果: {'label': 'financial news', 'score': 0.9983288645744324}\n",
            "情感傾向: financial news (負面)\n",
            "\n",
            "標題: 鉅亨速報 - Factset 最新調查：保瑞(6472-TW)EPS預估上修至41.93元，預估目標價為950元\n",
            "情感結果: {'label': 'financial news', 'score': 0.9975008368492126}\n",
            "情感傾向: financial news (負面)\n",
            "\n",
            "{'股票': '2330.TW', '報告': '### 股票分析報告：2330.TW\\n\\n#### 基本面分析\\n2330.TW（台積電）目前的市盈率為24.59，這一數據顯示出市場對於其未來盈利的高期望。在股息率為0.0159的背景下，投資者可獲得一定的現金流入。公司年營收達到26513.8億元，淨利潤率高達39.1%，顯示出其良好的盈利能力與市場地位。然而，需密切關注公司的業績報告及未來增長前景，以預測其長期表現。\\n\\n#### 技術面分析\\n技術面上，RSI指標目前為21.28，明顯低於30的超賣臨界值，暗示該股在短期內可能存在反彈的機會。儘管如此，缺乏20日均線的數據使得我們無法全面評估當前的價格趨勢。若假設股價持續在下降趨勢中，加之RSI指標顯示超賣，這可能增加反彈的潛力。建議持續監測未來五天的價格變動，並參考如MACD及布林帶等其他技術指標，以獲取進一步支持。\\n\\n#### 新聞情緒\\n近期針對2330.TW的新聞情緒分析顯示出情緒分數為-0.97，說明市場輿論偏向於負面。這可能與全球半導體行業的競爭加劇以及經濟環境不穩定有關，進一步影響投資者的信心。\\n\\n#### 投資建議\\n基於目前的市場數據，建議投資者保持謹慎觀望。儘管股價已出現超賣情況，並存在潛在的反彈機會，但仍需更多明確的市場信號和穩定的基本面支持來確認牛市的開始。特別是應關注即將發布的公司業績報告和行業趨勢變化，這將對股價走勢產生關鍵影響。建議分散投資，切勿將所有資金集中於此單一股票。\\n\\n#### 風險提示\\n投資股票本質上均存在風險。投資者應有全盤風險評估，包括可能的市場波動、經濟變遷及政策風險等，並設立合理的止損策略以管理潛在損失。\\n\\n總結來說，2330.TW在目前的環境下顯示出增長潛力，但需謹慎操作以降低投資風險。'}\n",
            "{'股票': 'AAPL', '報告': '### AAPL 股票分析報告\\n\\n#### 基本面分析\\nApple Inc.（AAPL）目前的市盈率為38.64，顯示出市場對其未來增長潛力的高度預期。然而，這一數字也提示出一定的高估風險。公司的股息率為0.43%，雖然不是特別高，但反映出其穩定的現金流和資本回報能力。此外，AAPL的營收達到3910.3億，並且淨利潤率高達24.0%，這表明公司在控制成本和有效運營方面表現出色。\\n\\n#### 技術面分析\\n根據技術指標，相對強弱指標（RSI）為40.49，顯示AAPL在短期內偏向被賣超。雖然此指標尚未顯示出強烈的反彈信號，但結合基本面的良好表現，這或許為長期投資者提供了進場的機會。反之，缺乏20日均線的數據使得我們無法進一步確認是否存在進一步的下滑風險。因此，對於短期交易者而言，建議耐心等待更具體的技術指標和價格走勢的明確確認。\\n\\n#### 新聞情緒\\n根據最近分析的五篇新聞文章，AAPL的情緒指數為-0.97，顯示出相對負面的市場情緒。這可能源於近期對AAPL的產品評價或業績的拖累。在此背景下，投資者應密切關注即將發布的產品和季度營收報告，這些都可能影響市場情緒及股價走勢。\\n\\n#### 投資建議\\n在當前市場環境中，對於長期投資者來說，AAPL似乎面臨著一個吸引的入場點。基於其穩健的基本面，若未來能解決目前的負面情緒並重新獲得市場信心，則預期其股價將有良好的上漲潛力。然而，對於短期交易者，考慮到目前的RSI值和負面新聞情緒，建議保持觀望，等待更多明確的信號才能進行更有利的買賣決策。\\n\\n#### 風險提示\\n無論是長期投資還是短期交易，均須謹慎考慮市場波動與潛在風險。特別是負面情緒情境下，投資者或需保持靈活性，及時調整策略以應對快速變化的市場情況。建議投資前進行全面的基本面分析與風險評估。'}\n",
            "{'股票': 'MSFT', '報告': '### 微軟（MSFT）股票分析報告\\n\\n#### 基本面分析\\n微軟（MSFT）近期的基本面數據顯示，市盈率（P/E Ratio）為34.96，這一數值暗示著市場對其未來增長的期望，但相對較高的P/E比率也可能表示股票被高估。股息率僅為0.78%，顯示公司將大部分收益再投資於業務中，而非分配給股東。根據2023年的財報，微軟的營收達到2541.9億美元，淨利潤率為35.6%，顯示出其強勁的盈利能力。這些數據表明，公司基本面穩健，但投資者仍需關注未來可能影響業績的因素。\\n\\n#### 技術面分析\\n從技術面來看，MSFT的相對強弱指數（RSI）目前為32.86，顯示該股可能處於超賣狀態。通常情況下，RSI低於30被視為超賣區，可能會吸引逆勢交易者進行介入。但需注意，RSI是一個滯後指標，並只能作為交易決策的輔助工具。缺乏20日均線數據使我們無法進一步分析短期價格趨勢，故需密切關注未來的價格動態。\\n\\n最新股價為422.99美元，投資者需要與近期的價格走勢作比較，以確定潛在的支撐位和阻力位。當前市場環境及行業趨勢亦需併入考量。\\n\\n#### 新聞情緒分析\\n進一步分析近5篇與微軟相關的新聞，發現整體情緒分數為-0.97，顯示該公司近期面臨相對負面的市場情緒。這可能影響投資者的信心及未來股價走勢，因此建議投資者在評估該公司時應保持警覺，密切關注任何影響市場情緒的後續事件。\\n\\n#### 投資建議\\n綜合以上分析，微軟目前可能具備反彈的潛力，特別是在RSI顯示超賣的背景下。然而，負面的新聞情緒提示我們需謹慎看待未來的市場波動。建議投資者在進行投資決策時，結合基本面與技術因素，並密切關注行業趨勢及宏觀經濟指標，以降低潛在風險。此外，根據個人的風險承受能力來制定具體的投資策略尤為重要。\\n\\n#### 風險提示\\n市場波動性、行業變化及潛在的負面新聞都可能影響股價走勢，投資者需對此有足夠的認識和準備。'}\n"
          ]
        }
      ]
    }
  ]
}